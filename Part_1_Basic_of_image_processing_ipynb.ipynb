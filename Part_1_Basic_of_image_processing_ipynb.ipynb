{
  "nbformat": 4,
  "nbformat_minor": 0,
  "metadata": {
    "colab": {
      "provenance": [],
      "mount_file_id": "1SjxHXemdEJ_niSLMXa6S0t4ZCLF1gOZ9",
      "authorship_tag": "ABX9TyNqWshZDHRg431lNYYWy01r",
      "include_colab_link": true
    },
    "kernelspec": {
      "name": "python3",
      "display_name": "Python 3"
    },
    "language_info": {
      "name": "python"
    }
  },
  "cells": [
    {
      "cell_type": "markdown",
      "metadata": {
        "id": "view-in-github",
        "colab_type": "text"
      },
      "source": [
        "<a href=\"https://colab.research.google.com/github/Keerthibalraj/Image_processing/blob/main/Part_1_Basic_of_image_processing_ipynb.ipynb\" target=\"_parent\"><img src=\"https://colab.research.google.com/assets/colab-badge.svg\" alt=\"Open In Colab\"/></a>"
      ]
    },
    {
      "cell_type": "code",
      "execution_count": null,
      "metadata": {
        "colab": {
          "base_uri": "https://localhost:8080/"
        },
        "id": "kseQMpadFHnd",
        "outputId": "5fcad9e1-010e-42ea-cee5-240e4ca9d55a"
      },
      "outputs": [
        {
          "output_type": "stream",
          "name": "stdout",
          "text": [
            "<class 'PIL.JpegImagePlugin.JpegImageFile'>\n",
            "JPEG\n",
            "RGB\n",
            "(600, 450)\n"
          ]
        }
      ],
      "source": [
        "#Reading images\n",
        "from PIL import Image\n",
        "\n",
        "img = Image.open(\"/content/drive/MyDrive/kaggle/images/ISIC_0024306.jpg\") #Not a numpy array\n",
        "print(type(img))\n",
        "\n",
        "img.show()\n",
        "\n",
        "# prints format of image\n",
        "print(img.format)\n",
        "\n",
        "# prints mode of image RGB or CMYK\n",
        "print(img.mode)\n",
        "\n",
        "print(img. size)  #prints the size of image (wodth, height)\n"
      ]
    },
    {
      "cell_type": "code",
      "source": [
        "# Resize images\n",
        "small_img = img.resize((200, 300))\n",
        "small_img.save(\"/content/drive/MyDrive/kaggle/output/test_image_small.jpg\")  #squished image\n",
        "\n",
        "# resize() method resizes images to exact value whether it makes sense or not.\n",
        "#aspect ratio is not maintained so images are squished.\n",
        "#if you want to keep the aspect ration then use thumbnai() method\n",
        "\n",
        "img.thumbnail((200, 200))\n",
        "img.save(\"/content/drive/MyDrive/kaggle/output/test_image_small_new.jpg\")\n",
        "\n",
        "print(img.size)\n",
        "\n",
        "img.thumbnail((1200, 1200))  #doesn't blow up the image, only reduces the size if original is larger.\n",
        "img.save(\"/content/drive/MyDrive/kaggle/output/test_image_small_new1.jpg\")\n",
        "\n",
        "large_img = img.resize((1200, 1300))\n",
        "large_img.save(\"/content/drive/MyDrive/kaggle/output/test_image_large.jpg\")  #enlarged image.\n",
        "print(large_img.size)\n"
      ],
      "metadata": {
        "colab": {
          "base_uri": "https://localhost:8080/"
        },
        "id": "gc9_CGlJFVgK",
        "outputId": "a1c0b972-ea93-4973-d534-db962f5b4a72"
      },
      "execution_count": null,
      "outputs": [
        {
          "output_type": "stream",
          "name": "stdout",
          "text": [
            "(200, 150)\n",
            "(1200, 1300)\n"
          ]
        }
      ]
    },
    {
      "cell_type": "code",
      "source": [
        "#Cropping images\n",
        "from PIL import Image\n",
        "img = Image.open(\"/content/drive/MyDrive/kaggle/images/ISIC_0024306.jpg\")\n",
        "cropped_img = img.crop((0, 0, 300, 300))  #crops from (0,0) to (300,300)\n",
        "cropped_img.save(\"/content/drive/MyDrive/kaggle/output/cropped_img.jpg\")\n",
        "\n",
        "# We can paste image on another image\n",
        "#this involves copying original image and pasting a second image on it\n",
        "from PIL import Image\n",
        "img1 = Image.open(\"/content/drive/MyDrive/kaggle/images/ISIC_0024306.jpg\")\n",
        "print(img1.size)\n",
        "img2 = Image.open(\"/content/drive/MyDrive/kaggle/masks/ISIC_0024306_segmentation.png\")\n",
        "print(img2.size)\n",
        "img2.thumbnail((200, 200))  #Resize in case the image is very large.\n",
        "\n",
        "img1_copy = img1.copy()   #Create a copy of the large image\n",
        "img1_copy.paste(img2, (50, 50))  #Paset the smaller imager image at specified location\n",
        "img1_copy.save(\"/content/drive/MyDrive/kaggle/output/fused_image.jpg\")\n"
      ],
      "metadata": {
        "colab": {
          "base_uri": "https://localhost:8080/"
        },
        "id": "k5NG2-9HFcId",
        "outputId": "29b49391-2ce8-4b77-d8ee-eb779940a8d0"
      },
      "execution_count": null,
      "outputs": [
        {
          "output_type": "stream",
          "name": "stdout",
          "text": [
            "(600, 450)\n",
            "(600, 450)\n"
          ]
        }
      ]
    },
    {
      "cell_type": "code",
      "source": [
        "# Rotating images\n",
        "from PIL import Image\n",
        "img = Image.open(\"/content/drive/MyDrive/kaggle/images/ISIC_0024306.jpg\")\n",
        "\n",
        "img_90_rot = img.rotate(90)\n",
        "img_90_rot.save(\"/content/drive/MyDrive/kaggle/output/rotated90.jpg\")  #keeps original aspect ratio and dimensions\n",
        "\n",
        "img_45_rot = img.rotate(45)\n",
        "img_45_rot.save(\"/content/drive/MyDrive/kaggle/output/rotated45.jpg\")  #keeps original aspect ratio and dimensions\n",
        "\n",
        "img_45_rot = img.rotate(45, expand=True)  #Dimensions are expanded to fir the entire image\n",
        "img_45_rot.save(\"/content/drive/MyDrive/kaggle/output/rotated45.jpg\")\n"
      ],
      "metadata": {
        "id": "1H2bjNbfFadv"
      },
      "execution_count": null,
      "outputs": []
    },
    {
      "cell_type": "code",
      "source": [
        "#Flipping or transposing images\n",
        "\n",
        "from PIL import Image\n",
        "img = Image.open(\"/content/drive/MyDrive/kaggle/masks/ISIC_0024306_segmentation.png\")  #easy to see that the image is flipped\n",
        "\n",
        "img_flipLR = img.transpose(Image.FLIP_LEFT_RIGHT)\n",
        "img_flipLR.save(\"/content/drive/MyDrive/kaggle/output/flippedLR.jpg\")\n",
        "\n",
        "img_flipTB = img.transpose(Image.FLIP_TOP_BOTTOM)\n",
        "img_flipTB.save(\"/content/drive/MyDrive/kaggle/output/flippedTB.jpg\")\n",
        "\n",
        "# Color transforms, convert images between L (greyscale), RGB and CMYK\n",
        "from PIL import Image\n",
        "img = Image.open(\"/content/drive/MyDrive/kaggle/images/ISIC_0024306.jpg\")\n",
        "\n",
        "grey_img = img.convert('L')  #L is for grey scale\n",
        "grey_img.save(\"/content/drive/MyDrive/kaggle/output/grey_img.jpg\")\n",
        "\n",
        "# Many other tasks can be performed. Here is full documentation.\n",
        "# https://pillow.readthedocs.io/en/stable/reference/Image.html\n",
        "\n",
        "\n",
        "#Here is a way to automate image processing for multiple images.\n",
        "\n",
        "from PIL import Image\n",
        "import glob\n",
        "\n",
        "path = \"/content/drive/MyDrive/kaggle/output/*.*\"\n",
        "for file in glob.glob(path):\n",
        "    print(file)     #just stop here to see all file names printed\n",
        "    a= Image.open(file)  #now, we can read each file since we have the full path\n",
        "\n",
        "    rotated45 = a.rotate(45, expand=True)\n",
        "    rotated45.save(file+\"_rotated45g.png\", \"PNG\")\n"
      ],
      "metadata": {
        "colab": {
          "base_uri": "https://localhost:8080/"
        },
        "id": "yrzpSpYbFYiP",
        "outputId": "d3be0498-a29a-477e-b50b-422f29a1d83f"
      },
      "execution_count": null,
      "outputs": [
        {
          "output_type": "stream",
          "name": "stdout",
          "text": [
            "/content/drive/MyDrive/kaggle/output/deconvolved.jpg\n",
            "/content/drive/MyDrive/kaggle/output/test_image_small.jpg\n",
            "/content/drive/MyDrive/kaggle/output/test_image_small_new.jpg\n",
            "/content/drive/MyDrive/kaggle/output/test_image_small_new1.jpg\n",
            "/content/drive/MyDrive/kaggle/output/test_image_large.jpg\n",
            "/content/drive/MyDrive/kaggle/output/cropped_img.jpg\n",
            "/content/drive/MyDrive/kaggle/output/fused_image.jpg\n",
            "/content/drive/MyDrive/kaggle/output/rotated90.jpg\n",
            "/content/drive/MyDrive/kaggle/output/rotated45.jpg\n",
            "/content/drive/MyDrive/kaggle/output/flippedLR.jpg\n",
            "/content/drive/MyDrive/kaggle/output/flippedTB.jpg\n",
            "/content/drive/MyDrive/kaggle/output/grey_img.jpg\n"
          ]
        }
      ]
    },
    {
      "cell_type": "code",
      "source": [],
      "metadata": {
        "id": "xijv_Fh9Gs5_"
      },
      "execution_count": null,
      "outputs": []
    }
  ]
}